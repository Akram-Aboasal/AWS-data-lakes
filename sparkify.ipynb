{
 "cells": [
  {
   "cell_type": "code",
   "execution_count": 1,
   "metadata": {
    "editable": true
   },
   "outputs": [],
   "source": [
    "import configparser\n",
    "from datetime import datetime\n",
    "import os\n",
    "from pyspark.sql.functions import udf,col\n",
    "from pyspark.sql import SparkSession\n",
    "from pyspark.sql.functions import (year, month, dayofmonth, hour,weekofyear, dayofweek, date_format, monotonically_increasing_id)\n"
   ]
  },
  {
   "cell_type": "code",
   "execution_count": 2,
   "metadata": {
    "editable": true
   },
   "outputs": [],
   "source": [
    "config = configparser.ConfigParser()\n",
    "config.read('dl.cfg')\n",
    "\n",
    "os.environ[\"AWS_ACCESS_KEY_ID\"]=config['AWS']['AWS_ACCESS_KEY_ID']\n",
    "os.environ[\"AWS_SECRET_ACCESS_KEY\"]=config['AWS']['AWS_SECRET_ACCESS_KEY']"
   ]
  },
  {
   "cell_type": "code",
   "execution_count": 3,
   "metadata": {
    "editable": true
   },
   "outputs": [],
   "source": [
    "def create_spark_session():\n",
    "    spark = SparkSession \\\n",
    "        .builder \\\n",
    "        .config(\"spark.jars.packages\", \"org.apache.hadoop:hadoop-aws:2.7.0\") \\\n",
    "        .getOrCreate()\n",
    "    return spark\n"
   ]
  },
  {
   "cell_type": "code",
   "execution_count": 4,
   "metadata": {
    "editable": true
   },
   "outputs": [],
   "source": [
    "def process_song_data(spark, input_data, output_data):\n",
    "    \"\"\"\n",
    "    Load data from song_data dataset and extract columns\n",
    "    for songs and artist tables and write the data into parquet\n",
    "    files which will be loaded on s3.\n",
    "    \n",
    "    Args:\n",
    "        spark(pyspark.sql.SparkSession): SparkSession object\n",
    "        input_data(string): Path to input data directory.\n",
    "        output_data(string): Path to output data directory.\n",
    "    Returns:\n",
    "        None\n",
    "    \"\"\"\n",
    "    # get filepath to song data file\n",
    "    song_data = input_data + \"song_data/*/*/*/\"\n",
    "\n",
    "    # read song data file\n",
    "    df = spark.read.json(song_data)\n",
    "\n",
    "    # extract columns to create songs table\n",
    "    songs_table = df.select('song_id', 'title', 'artist_id','year', 'duration').dropDuplicates()\n",
    "    print(songs_table.show(5, False))\n",
    "    \n",
    "    # create songs table\n",
    "    songs_table.createOrReplaceTempView('songs')\n",
    "\n",
    "    # write songs table to parquet files partitioned by year and artist\n",
    "    songs_table.write.partitionBy('year','artist_id').parquet(os.path.join(output_data,'songs/songs.parquet'),'overwrite')\n",
    "\n",
    "    # extract columns to create artists table\n",
    "    artists_table = df.select('artist_id', 'artist_name', 'artist_location',\n",
    "                              'artist_latitude', 'artist_longitude') \\\n",
    "                      .withColumnRenamed('artist_name', 'name') \\\n",
    "                      .withColumnRenamed('artist_location', 'location') \\\n",
    "                      .withColumnRenamed('artist_latitude', 'latitude') \\\n",
    "                      .withColumnRenamed('artist_longitude', 'longitude') \\\n",
    "                      .dropDuplicates()\n",
    "    print(artists_table.show(5, truncate = False))\n",
    "        \n",
    "      # create artists table\n",
    "    artists_table.createOrReplaceTempView('artists')\n",
    "\n",
    "    # write artists table to parquet files\n",
    "    artists_table.write.parquet(os.path.join(output_data,'artists/artists.parquet'),'overwrite')\n"
   ]
  },
  {
   "cell_type": "code",
   "execution_count": 5,
   "metadata": {
    "editable": true
   },
   "outputs": [],
   "source": [
    "def process_log_data(spark, input_data, output_data):\n",
    "    \"\"\" Reading log data and create songs and artists table\n",
    "    \n",
    "    Args:\n",
    "        spark(pyspark.sql.SparkSession): SparkSession object\n",
    "        input_data(string): Path to input data directory.\n",
    "        output_data(string): Path to output data directory.\n",
    "    Returns:\n",
    "        None\n",
    "    \"\"\"\n",
    "    # get filepath to log data file\n",
    "    log_data =input_data + \"log_data/\"\n",
    "\n",
    "     # read log data file\n",
    "    log_df = spark.read.json(log_data)\n",
    "    log_df.show(2)\n",
    "\n",
    "    # filter for song plays\n",
    "    log_df = log_df.where('page=\"NextSong\"')\n",
    "    log_df.show(2)\n",
    "    \n",
    "    # extract columns for users table    \n",
    "    users_table = log_df.select([\"userId\", \"firstName\", \"lastName\", \"gender\", \"level\"]).distinct()\n",
    "    users_table.show(5, truncate = False)\n",
    "\n",
    "    # create users table   \n",
    "    users_table.createOrReplaceTempView('users')\n",
    "    \n",
    "    # write users table to parquet files\n",
    "    users_table.write.parquet(os.path.join(output_data, 'users/users.parquet'), 'overwrite')\n",
    "\n",
    "    # create timestamp column from original timestamp column\n",
    "    get_timestamp = udf(lambda x: str(int(int(x)/1000)))\n",
    "    log_df = log_df.withColumn('timestamp', get_timestamp(log_df.ts))\n",
    "    \n",
    "    # create datetime column from original timestamp column\n",
    "    get_datetime = udf(lambda x: str(datetime.fromtimestamp(int(x) / 1000)))\n",
    "    log_df = log_df.withColumn('datetime', get_datetime(log_df.ts))\n",
    "    \n",
    "    # extract columns to create time table\n",
    "    time_table = log_df.select('datetime') \\\n",
    "                           .withColumn('start_time', log_df.datetime) \\\n",
    "                           .withColumn('hour', hour('datetime')) \\\n",
    "                           .withColumn('day', dayofmonth('datetime')) \\\n",
    "                           .withColumn('week', weekofyear('datetime')) \\\n",
    "                           .withColumn('month', month('datetime')) \\\n",
    "                           .withColumn('year', year('datetime')) \\\n",
    "                           .withColumn('weekday', dayofweek('datetime')) \\\n",
    "                           .dropDuplicates()\n",
    "    \n",
    "    # create time table   \n",
    "    time_table.createOrReplaceTempView('time')\n",
    "    \n",
    "    # write time table to parquet files partitioned by year and month\n",
    "    print(time_table.show(5))\n",
    "    time_table.write.partitionBy('year', 'month').parquet(os.path.join(output_data,'time/time.parquet'), 'overwrite')\n",
    "\n",
    "\n",
    "    # read in song data to use for songplays table\n",
    "    song_data = input_data + \"song_data/*/*/*/\"\n",
    "    song_df = spark.read.json(song_data)\n",
    "\n",
    "    # extract columns from joined song and log datasets to create songplays table\n",
    "   \n",
    "   # extract columns from joined song and log datasets to create songplays table\n",
    "    log_df = log_df.alias('log_df')\n",
    "    song_df = song_df.alias('song_df')\n",
    "    joined_df = log_df.join(song_df, col('log_df.artist') == col('song_df.artist_name') & col(log_df.song == song_df.title) , 'inner')\n",
    "    songplays_table = joined_df.select(\n",
    "        col('log_df.datetime').alias('start_time'),\n",
    "        col('log_df.userId').alias('user_id'),\n",
    "        col('log_df.level').alias('level'),\n",
    "        col('song_df.song_id').alias('song_id'),\n",
    "        col('song_df.artist_id').alias('artist_id'),\n",
    "        col('log_df.sessionId').alias('session_id'),\n",
    "        col('log_df.location').alias('location'), \n",
    "        col('log_df.userAgent').alias('user_agent'),\n",
    "        year('log_df.datetime').alias('year'),\n",
    "        month('log_df.datetime').alias('month')) \\\n",
    "        .withColumn('songplay_id', monotonically_increasing_id())\n",
    "\n",
    "                    \n",
    "song_log_joined_table = log_df.join(song_df, (log_df.song == song_df.title) & (log_df.artist == song_df.artist_name) & (log_df.length == song_df.duration), how='inner')\n",
    "\n",
    "    # create songplays table   \n",
    "    songplays_table.createOrReplaceTempView('songplays')\n",
    "    \n",
    "     # write songplays table to parquet files partitioned by year and month\n",
    "    print(songplays_table.show(5))\n",
    "    songplays_table.write.partitionBy('year', 'month').parquet(os.path.join(output_data,'songplays/songplays.parquet'),'overwrite')\n",
    "     \n",
    "  \n",
    "   "
   ]
  },
  {
   "cell_type": "code",
   "execution_count": 6,
   "metadata": {
    "editable": true
   },
   "outputs": [],
   "source": [
    "spark = create_spark_session()"
   ]
  },
  {
   "cell_type": "code",
   "execution_count": 7,
   "metadata": {
    "editable": true
   },
   "outputs": [],
   "source": [
    "input_data = \"s3a://sparkifybucket/\"\n",
    "output_data = \"s3a://sparkifybucket/output_data/\""
   ]
  },
  {
   "cell_type": "code",
   "execution_count": 9,
   "metadata": {
    "editable": true
   },
   "outputs": [
    {
     "name": "stdout",
     "output_type": "stream",
     "text": [
      "+------------------+---------------------------------------------------+------------------+----+---------+\n",
      "|song_id           |title                                              |artist_id         |year|duration |\n",
      "+------------------+---------------------------------------------------+------------------+----+---------+\n",
      "|SOGOSOV12AF72A285E|¿Dónde va Chichi?                                  |ARGUVEV1187B98BA17|1997|313.12934|\n",
      "|SOTTDKS12AB018D69B|It Wont Be Christmas                               |ARMBR4Y1187B9990EB|0   |241.47546|\n",
      "|SOBBUGU12A8C13E95D|Setting Fire to Sleeping Giants                    |ARMAC4T1187FB3FA4C|2004|207.77751|\n",
      "|SOIAZJW12AB01853F1|Pink World                                         |AR8ZCNI1187B9A069B|1984|269.81832|\n",
      "|SONYPOM12A8C13B2D7|I Think My Wife Is Running Around On Me (Taco Hell)|ARDNS031187B9924F0|2005|186.48771|\n",
      "+------------------+---------------------------------------------------+------------------+----+---------+\n",
      "only showing top 5 rows\n",
      "\n",
      "None\n",
      "+------------------+---------------+---------------+--------+----------+\n",
      "|artist_id         |name           |location       |latitude|longitude |\n",
      "+------------------+---------------+---------------+--------+----------+\n",
      "|ARPBNLO1187FB3D52F|Tiny Tim       |New York, NY   |40.71455|-74.00712 |\n",
      "|ARXR32B1187FB57099|Gob            |               |null    |null      |\n",
      "|AROGWRA122988FEE45|Christos Dantis|               |null    |null      |\n",
      "|ARBGXIG122988F409D|Steel Rain     |California - SF|37.77916|-122.42005|\n",
      "|AREVWGE1187B9B890A|Bitter End     |Noci (BA)      |-13.442 |-41.9952  |\n",
      "+------------------+---------------+---------------+--------+----------+\n",
      "only showing top 5 rows\n",
      "\n",
      "None\n"
     ]
    }
   ],
   "source": [
    "process_song_data(spark, input_data, output_data)"
   ]
  },
  {
   "cell_type": "code",
   "execution_count": 8,
   "metadata": {
    "editable": true
   },
   "outputs": [
    {
     "name": "stdout",
     "output_type": "stream",
     "text": [
      "+-----------+---------+---------+------+-------------+--------+---------+-----+--------------------+------+--------+-----------------+---------+---------------+------+-------------+--------------------+------+\n",
      "|     artist|     auth|firstName|gender|itemInSession|lastName|   length|level|            location|method|    page|     registration|sessionId|           song|status|           ts|           userAgent|userId|\n",
      "+-----------+---------+---------+------+-------------+--------+---------+-----+--------------------+------+--------+-----------------+---------+---------------+------+-------------+--------------------+------+\n",
      "|   Harmonia|Logged In|     Ryan|     M|            0|   Smith|655.77751| free|San Jose-Sunnyval...|   PUT|NextSong|1.541016707796E12|      583|  Sehr kosmisch|   200|1542241826796|\"Mozilla/5.0 (X11...|    26|\n",
      "|The Prodigy|Logged In|     Ryan|     M|            1|   Smith|260.07465| free|San Jose-Sunnyval...|   PUT|NextSong|1.541016707796E12|      583|The Big Gundown|   200|1542242481796|\"Mozilla/5.0 (X11...|    26|\n",
      "+-----------+---------+---------+------+-------------+--------+---------+-----+--------------------+------+--------+-----------------+---------+---------------+------+-------------+--------------------+------+\n",
      "only showing top 2 rows\n",
      "\n",
      "+-----------+---------+---------+------+-------------+--------+---------+-----+--------------------+------+--------+-----------------+---------+---------------+------+-------------+--------------------+------+\n",
      "|     artist|     auth|firstName|gender|itemInSession|lastName|   length|level|            location|method|    page|     registration|sessionId|           song|status|           ts|           userAgent|userId|\n",
      "+-----------+---------+---------+------+-------------+--------+---------+-----+--------------------+------+--------+-----------------+---------+---------------+------+-------------+--------------------+------+\n",
      "|   Harmonia|Logged In|     Ryan|     M|            0|   Smith|655.77751| free|San Jose-Sunnyval...|   PUT|NextSong|1.541016707796E12|      583|  Sehr kosmisch|   200|1542241826796|\"Mozilla/5.0 (X11...|    26|\n",
      "|The Prodigy|Logged In|     Ryan|     M|            1|   Smith|260.07465| free|San Jose-Sunnyval...|   PUT|NextSong|1.541016707796E12|      583|The Big Gundown|   200|1542242481796|\"Mozilla/5.0 (X11...|    26|\n",
      "+-----------+---------+---------+------+-------------+--------+---------+-----+--------------------+------+--------+-----------------+---------+---------------+------+-------------+--------------------+------+\n",
      "only showing top 2 rows\n",
      "\n",
      "+------+---------+--------+------+-----+\n",
      "|userId|firstName|lastName|gender|level|\n",
      "+------+---------+--------+------+-----+\n",
      "|57    |Katherine|Gay     |F     |free |\n",
      "|84    |Shakira  |Hunt    |F     |free |\n",
      "|22    |Sean     |Wilson  |F     |free |\n",
      "|52    |Theodore |Smith   |M     |free |\n",
      "|80    |Tegan    |Levine  |F     |paid |\n",
      "+------+---------+--------+------+-----+\n",
      "only showing top 5 rows\n",
      "\n",
      "+--------------------+--------------------+----+---+----+-----+----+-------+\n",
      "|            datetime|          start_time|hour|day|week|month|year|weekday|\n",
      "+--------------------+--------------------+----+---+----+-----+----+-------+\n",
      "|2018-11-15 15:37:...|2018-11-15 15:37:...|  15| 15|  46|   11|2018|      5|\n",
      "|2018-11-15 17:42:...|2018-11-15 17:42:...|  17| 15|  46|   11|2018|      5|\n",
      "|2018-11-21 04:23:...|2018-11-21 04:23:...|   4| 21|  47|   11|2018|      4|\n",
      "|2018-11-21 08:52:...|2018-11-21 08:52:...|   8| 21|  47|   11|2018|      4|\n",
      "|2018-11-21 11:42:...|2018-11-21 11:42:...|  11| 21|  47|   11|2018|      4|\n",
      "+--------------------+--------------------+----+---+----+-----+----+-------+\n",
      "only showing top 5 rows\n",
      "\n",
      "None\n",
      "+--------------------+-------+-----+------------------+------------------+----------+--------------------+--------------------+----+-----+-----------+\n",
      "|          start_time|user_id|level|           song_id|         artist_id|session_id|            location|          user_agent|year|month|songplay_id|\n",
      "+--------------------+-------+-----+------------------+------------------+----------+--------------------+--------------------+----+-----+-----------+\n",
      "|2018-11-15 20:32:...|     44| paid|SOBONFF12A6D4F84D8|ARIK43K1187B9AE54C|       619|Waterloo-Cedar Fa...|Mozilla/5.0 (Maci...|2018|   11|          0|\n",
      "|2018-11-21 21:56:...|     15| paid|SOZCTXZ12AB0182364|AR5KOSW1187FB35FF4|       818|Chicago-Napervill...|\"Mozilla/5.0 (X11...|2018|   11|          1|\n",
      "|2018-11-14 13:11:...|     34| free|SOWQTQZ12A58A7B63E|ARPFHN61187FB575F6|       495|Milwaukee-Waukesh...|Mozilla/5.0 (Maci...|2018|   11|          2|\n",
      "|2018-11-14 20:16:...|    101| free|SORRZGD12A6310DBC3|ARVBRGZ1187FB4675A|       603|New Orleans-Metai...|\"Mozilla/5.0 (Win...|2018|   11|          3|\n",
      "|2018-11-28 23:22:...|     24| paid|SOWQTQZ12A58A7B63E|ARPFHN61187FB575F6|       984|Lake Havasu City-...|\"Mozilla/5.0 (Win...|2018|   11|          4|\n",
      "+--------------------+-------+-----+------------------+------------------+----------+--------------------+--------------------+----+-----+-----------+\n",
      "only showing top 5 rows\n",
      "\n",
      "None\n"
     ]
    }
   ],
   "source": [
    "process_log_data(spark, input_data, output_data)"
   ]
  },
  {
   "cell_type": "code",
   "execution_count": null,
   "metadata": {
    "editable": true
   },
   "outputs": [],
   "source": []
  }
 ],
 "metadata": {
  "kernelspec": {
   "display_name": "Python 3",
   "language": "python",
   "name": "python3"
  },
  "language_info": {
   "codemirror_mode": {
    "name": "ipython",
    "version": 3
   },
   "file_extension": ".py",
   "mimetype": "text/x-python",
   "name": "python",
   "nbconvert_exporter": "python",
   "pygments_lexer": "ipython3",
   "version": "3.6.3"
  }
 },
 "nbformat": 4,
 "nbformat_minor": 5
}
