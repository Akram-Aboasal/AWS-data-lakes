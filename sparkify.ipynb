{
 "cells": [
  {
   "cell_type": "code",
   "execution_count": null,
   "metadata": {
    "editable": true
   },
   "outputs": [],
   "source": [
    "import configparser\n",
    "from datetime import datetime\n",
    "import os\n",
    "from pyspark.sql import SparkSession\n",
    "from pyspark.sql.functions import (year, month, dayofmonth, hour,weekofyear, dayofweek, date_format, monotonically_increasing_id)\n"
   ]
  },
  {
   "cell_type": "code",
   "execution_count": null,
   "metadata": {
    "editable": true
   },
   "outputs": [],
   "source": [
    "config = configparser.ConfigParser()\n",
    "config.read('dl.cfg')\n",
    "\n",
    "os.environ[\"AWS_ACCESS_KEY_ID\"]=config['AWS']['AWS_ACCESS_KEY_ID']\n",
    "os.environ[\"AWS_SECRET_ACCESS_KEY\"]=config['AWS']['AWS_SECRET_ACCESS_KEY']"
   ]
  },
  {
   "cell_type": "code",
   "execution_count": null,
   "metadata": {
    "editable": true
   },
   "outputs": [],
   "source": [
    "def create_spark_session():\n",
    "    spark = SparkSession \\\n",
    "        .builder \\\n",
    "        .config(\"spark.jars.packages\", \"org.apache.hadoop:hadoop-aws:2.7.0\") \\\n",
    "        .getOrCreate()\n",
    "    return spark\n"
   ]
  },
  {
   "cell_type": "code",
   "execution_count": null,
   "metadata": {
    "editable": true
   },
   "outputs": [],
   "source": [
    "def process_song_data(spark, input_data, output_data):\n",
    "    \"\"\"\n",
    "    Load data from song_data dataset and extract columns\n",
    "    for songs and artist tables and write the data into parquet\n",
    "    files which will be loaded on s3.\n",
    "    \"\"\"\n",
    "    # get filepath to song data file\n",
    "    song_data = input_data + \"song_data/*/*/*/\"\n",
    "\n",
    "    # read song data file\n",
    "    df = spark.read.json(song_data)\n",
    "\n",
    "    # extract columns to create songs table\n",
    "    songs_table = df.select('song_id', 'title', 'artist_id','year', 'duration').distinct()\n",
    "    print(songs_table.show(5, False))\n",
    "    \n",
    "    # create songs table\n",
    "    songs_table.createOrReplaceTempView('songs')\n",
    "\n",
    "    # write songs table to parquet files partitioned by year and artist\n",
    "    songs_table.write.partitionBy('year','artist_id').parquet(os.path.join(output_data,'songs/songs.parquet'),'overwrite')\n",
    "\n",
    "    # extract columns to create artists table\n",
    "    artists_table = df.select('artist_id', 'artist_name', 'artist_location',\n",
    "                              'artist_latitude', 'artist_longitude') \\\n",
    "                      .withColumnRenamed('artist_name', 'name') \\\n",
    "                      .withColumnRenamed('artist_location', 'location') \\\n",
    "                      .withColumnRenamed('artist_latitude', 'latitude') \\\n",
    "                      .withColumnRenamed('artist_longitude', 'longitude') \\\n",
    "                      .distinct()\n",
    "    print(artists_table.show(5, truncate = False))\n",
    "        \n",
    "      # create artists table\n",
    "    artists_table.createOrReplaceTempView('artists')\n",
    "\n",
    "    # write artists table to parquet files\n",
    "    artists_table.write.parquet(os.path.join(output_data,'artists/artists.parquet'),'overwrite')\n"
   ]
  },
  {
   "cell_type": "code",
   "execution_count": null,
   "metadata": {
    "editable": true
   },
   "outputs": [],
   "source": [
    "def process_log_data(spark, input_data, output_data):\n",
    "    \"\"\" Reading log data and create songs and artists table\n",
    "    \"\"\"\n",
    "    # get filepath to log data file\n",
    "    log_data =input_data + \"log_data/\"\n",
    "\n",
    "     # read log data file\n",
    "    df = spark.read.json(log_data)\n",
    "    print(df.show(2))\n",
    "\n",
    "    # filter for song plays\n",
    "    log_df = df.filter(df.page == 'NextSong').select('ts', 'userId', 'level', 'song', 'artist','sessionId', 'location', 'userAgent')\n",
    "    print(log_df.show(2))\n",
    "    \n",
    "    # extract columns for users table    \n",
    "    users_table = df.select('userId', 'firstName', 'lastName','gender', 'level').distinct()\n",
    "    print(users_table.show(5, truncate = False))\n",
    "    \n",
    "    # create users table   \n",
    "    users_table.createOrReplaceTempView('users')\n",
    "    \n",
    "    # write users table to parquet files\n",
    "    users_table.write.parquet(os.path.join(output_data, 'users/users.parquet'), 'overwrite')\n",
    "\n",
    "    # create timestamp column from original timestamp column\n",
    "    get_timestamp = udf(lambda x: str(int(int(x)/1000)))\n",
    "    log_df = log_df.withColumn('timestamp', get_timestamp(log_df.ts))\n",
    "    \n",
    "    # create datetime column from original timestamp column\n",
    "    get_datetime = udf(lambda x: str(datetime.fromtimestamp(int(x) / 1000)))\n",
    "    log_df = log_df.withColumn('datetime', get_datetime(log_df.ts))\n",
    "    \n",
    "    # extract columns to create time table\n",
    "    time_table = log_df.select('datetime') \\\n",
    "                           .withColumn('start_time', log_df.datetime) \\\n",
    "                           .withColumn('hour', hour('datetime')) \\\n",
    "                           .withColumn('day', dayofmonth('datetime')) \\\n",
    "                           .withColumn('week', weekofyear('datetime')) \\\n",
    "                           .withColumn('month', month('datetime')) \\\n",
    "                           .withColumn('year', year('datetime')) \\\n",
    "                           .withColumn('weekday', dayofweek('datetime')) \\\n",
    "                           .distinct()\n",
    "    \n",
    "    # write time table to parquet files partitioned by year and month\n",
    "    time_table.write.partitionBy('year', 'month').parquet(os.path.join(output_data,'time/time.parquet'), 'overwrite')\n",
    "\n",
    "    # read in song data to use for songplays table\n",
    "    song_data = input_data + \"song_data/*/*/*/\"\n",
    "    song_df = spark.read.json(song_data)\n",
    "\n",
    "    # extract columns from joined song and log datasets to create songplays table\n",
    "    log_df = log_df.alias('log_df')\n",
    "    song_df = song_df.alias('song_df')\n",
    "    joined_df = log_df.join(song_df, col('log_df.artist') == col('song_df.artist_name'), 'inner')\n",
    "    \n",
    "    songplays_table = joined_df.select(\n",
    "        col('log_df.datetime').alias('start_time'),\n",
    "        col('log_df.userId').alias('user_id'),\n",
    "        col('log_df.level').alias('level'),\n",
    "        col('song_df.song_id').alias('song_id'),\n",
    "        col('song_df.artist_id').alias('artist_id'),\n",
    "        col('log_df.sessionId').alias('session_id'),\n",
    "        col('log_df.location').alias('location'), \n",
    "        col('log_df.userAgent').alias('user_agent'),\n",
    "        year('log_df.datetime').alias('year'),\n",
    "        month('log_df.datetime').alias('month')) \\\n",
    "        .withColumn('songplay_id', monotonically_increasing_id())\n",
    "\n",
    "    songplays_table.createOrReplaceTempView('songplays')\n",
    "    \n",
    "     # write songplays table to parquet files partitioned by user_id\n",
    "    print(songplays_table.show(5))\n",
    "    songplays_table.write.partitionBy(\"user_id\").parquet(os.path.join(output_data,'songplays/songplays.parquet'),'overwrite')\n"
   ]
  },
  {
   "cell_type": "code",
   "execution_count": null,
   "metadata": {
    "editable": true
   },
   "outputs": [],
   "source": [
    "spark = create_spark_session()"
   ]
  },
  {
   "cell_type": "code",
   "execution_count": null,
   "metadata": {
    "editable": true
   },
   "outputs": [],
   "source": [
    "input_data = \"s3a://udacity-sparkify-dl/\"\n",
    "output_data = \"s3a://udacity-sparkify-dl/output_data/\""
   ]
  },
  {
   "cell_type": "code",
   "execution_count": null,
   "metadata": {
    "editable": true
   },
   "outputs": [],
   "source": [
    "process_song_data(spark, input_data, output_data)"
   ]
  },
  {
   "cell_type": "code",
   "execution_count": null,
   "metadata": {
    "editable": true
   },
   "outputs": [],
   "source": [
    "process_log_data(spark, input_data, output_data)"
   ]
  },
  {
   "cell_type": "code",
   "execution_count": null,
   "metadata": {
    "editable": true
   },
   "outputs": [],
   "source": []
  }
 ],
 "metadata": {
  "kernelspec": {
   "display_name": "Python 3",
   "language": "python",
   "name": "python3"
  },
  "language_info": {
   "codemirror_mode": {
    "name": "ipython",
    "version": 3
   },
   "file_extension": ".py",
   "mimetype": "text/x-python",
   "name": "python",
   "nbconvert_exporter": "python",
   "pygments_lexer": "ipython3",
   "version": "3.6.3"
  }
 },
 "nbformat": 4,
 "nbformat_minor": 5
}
